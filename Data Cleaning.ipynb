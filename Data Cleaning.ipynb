{
 "cells": [
  {
   "cell_type": "code",
   "execution_count": null,
   "id": "3b031a14-f045-4b42-825c-ed55caee424e",
   "metadata": {},
   "outputs": [],
   "source": [
    "#Dataset from Kaggle: https://www.kaggle.com/datasets/uciml/pima-indians-diabetes-database"
   ]
  },
  {
   "cell_type": "code",
   "execution_count": null,
   "id": "d042b3fc-75e4-461e-a4f5-bdcf30685e0a",
   "metadata": {},
   "outputs": [],
   "source": [
    "import numpy as np\n",
    "import pandas as pd\n",
    "import matplotlib.pyplot as plt\n",
    "import seaborn as sns\n",
    "from sklearn.ensemble import RandomForestRegressor\n",
    "from sklearn.linear_model import LinearRegression\n",
    "from sklearn.model_selection import train_test_split"
   ]
  },
  {
   "cell_type": "code",
   "execution_count": null,
   "id": "b2b9c111-9bf4-47d1-bbf1-f9e277dca4f9",
   "metadata": {},
   "outputs": [],
   "source": [
    "df = pd.read_csv(\"diabetes.csv\") # this path is generalized, please input original local file path here\n",
    "df"
   ]
  },
  {
   "cell_type": "code",
   "execution_count": null,
   "id": "71ace8d6-fe66-4777-baba-fada3418b45b",
   "metadata": {},
   "outputs": [],
   "source": [
    "df.describe(include='all')\n",
    "#Look at descriptive stats to understand data and identify any inconsistency, missing values, and outliers"
   ]
  },
  {
   "cell_type": "code",
   "execution_count": null,
   "id": "bf5372c5-6a05-47ea-ac72-250d5e996dac",
   "metadata": {},
   "outputs": [],
   "source": [
    "df.hist(figsize=(12, 10), bins=30, edgecolor='black')\n",
    "#Look at histogram to understand spread of data"
   ]
  },
  {
   "cell_type": "code",
   "execution_count": null,
   "id": "77cb342e-63f6-49c6-aae8-95d867368114",
   "metadata": {},
   "outputs": [],
   "source": [
    "df.boxplot(figsize=(12,5), vert=False)\n",
    "#Look at boxplot to understand spread of data"
   ]
  },
  {
   "cell_type": "code",
   "execution_count": null,
   "id": "17583329-f448-4e0a-88da-f163ebcccc75",
   "metadata": {},
   "outputs": [],
   "source": [
    "# Missing Values:\n",
    "#1. BloodPressue, SkinThickness, Insulin, BMI, and Age have a Min of 0, which is impossible and indicate missing value\n",
    "\n",
    "# Outliers:\n",
    "#2. BloodPressure at 122 (diastollic) is possible but indicates medical emergency\n",
    "#3. SkinThickness of 99mm is unrealistic\n",
    "#4. Insulin at 846 is unrealistic\n",
    "#5. BMI at 67 is rare"
   ]
  },
  {
   "cell_type": "code",
   "execution_count": null,
   "id": "1420d92c-1505-4001-ae05-b4dee30fc45c",
   "metadata": {},
   "outputs": [],
   "source": [
    "#Assign 0 as missing values for Glucose, BloodPressue, SkinThickness, Insulin, BMI\n",
    "\n",
    "columns_missing_value = ['Glucose', 'BloodPressure', 'SkinThickness', 'Insulin', 'BMI']\n",
    "\n",
    "df[columns_missing_value] = df[columns_missing_value].replace(0, np.nan)\n",
    "\n",
    "df[columns_missing_value]"
   ]
  },
  {
   "cell_type": "code",
   "execution_count": null,
   "id": "7649499b-ee1f-43e1-a9a8-e2328819ba9b",
   "metadata": {},
   "outputs": [],
   "source": [
    "df[columns_missing_value].boxplot(figsize=(12,5), vert=False)"
   ]
  },
  {
   "cell_type": "code",
   "execution_count": null,
   "id": "c5233290-3059-4558-b6fe-349ab3fb4d4d",
   "metadata": {},
   "outputs": [],
   "source": [
    "df[columns_missing_value].isnull().sum()"
   ]
  },
  {
   "cell_type": "code",
   "execution_count": null,
   "id": "2ea70c87-cd4e-43bc-9fe5-ead0ac2bfb02",
   "metadata": {},
   "outputs": [],
   "source": [
    "df[columns_missing_value].isnull().sum()/ len(df)*100"
   ]
  },
  {
   "cell_type": "code",
   "execution_count": null,
   "id": "ac6013ac-94c7-4b4a-9e06-747479fb5a82",
   "metadata": {},
   "outputs": [],
   "source": [
    "#SkinThickness and Insulin have a high percentage of missing values, replacing it with mean may affect modelling results later on, hence we should replace it with predicted values.\n",
    "correlation_matrix = df.corr()\n",
    "correlation_matrix"
   ]
  },
  {
   "cell_type": "code",
   "execution_count": null,
   "id": "3c751ec9-2244-4b68-a88e-748a470b513a",
   "metadata": {},
   "outputs": [],
   "source": [
    "#Identify correlation of SkinThickness and Insulin with other fields for prediction\n",
    "correlation_matrix[[\"SkinThickness\", \"Insulin\"]].abs() > 0.2"
   ]
  },
  {
   "cell_type": "code",
   "execution_count": null,
   "id": "e307a288-0b91-450b-abde-a84badc9c06c",
   "metadata": {},
   "outputs": [],
   "source": [
    "#Select features use to predict missing values\n",
    "correlated_features = correlation_matrix[[\"SkinThickness\", \"Insulin\"]].abs() > 0.2\n",
    "selected_features = correlation_matrix.index[correlated_features.any(axis=1)].tolist()\n",
    "selected_features.remove(\"SkinThickness\")\n",
    "selected_features.remove(\"Insulin\")\n",
    "print(f\"Selected features for imputation: {selected_features}\")"
   ]
  },
  {
   "cell_type": "code",
   "execution_count": null,
   "id": "ce5c4ca8-1aa5-4859-ac0e-d5883415dd6f",
   "metadata": {},
   "outputs": [],
   "source": [
    "#Define function\n",
    "def impute_missing_values(df, target_column, feature_columns):\n",
    "    #Split the data into missing and non-missing, so we can predict missing values using non-missing data\n",
    "    df_train = df[df[target_column].notna()] \n",
    "    df_missing = df[df[target_column].isna()]  \n",
    "    \n",
    "    if not df_missing.empty:\n",
    "        # Define X (predictors) and y (target)\n",
    "        X_train = df_train[feature_columns]\n",
    "        y_train = df_train[target_column]\n",
    "        \n",
    "        # Train regression model\n",
    "        model = RandomForestRegressor()\n",
    "        model.fit(X_train, y_train)\n",
    "\n",
    "        # Predict missing values\n",
    "        X_missing = df_missing[feature_columns]\n",
    "        df.loc[df[target_column].isna(), target_column] = model.predict(X_missing)"
   ]
  },
  {
   "cell_type": "code",
   "execution_count": null,
   "id": "1697c898-ebe9-4384-b358-5e0922c1a4dc",
   "metadata": {},
   "outputs": [],
   "source": [
    "# Impute missing values for SkinThickness and Insulin\n",
    "impute_missing_values(df, \"SkinThickness\", selected_features)\n",
    "impute_missing_values(df, \"Insulin\", selected_features)"
   ]
  },
  {
   "cell_type": "code",
   "execution_count": null,
   "id": "f166f1f4-7330-4a37-95af-98836b35bbbc",
   "metadata": {},
   "outputs": [],
   "source": [
    "print(df.isnull().sum())"
   ]
  },
  {
   "cell_type": "code",
   "execution_count": null,
   "id": "8d16bbb0-b9b3-486d-a8f2-83332f1e6fe7",
   "metadata": {},
   "outputs": [],
   "source": [
    "#Replace remaining missing values (Glucose, BloodPressure and BMI) with mean\n",
    "df.fillna(df.mean(), inplace=True)\n",
    "df[columns_missing_value].describe()"
   ]
  },
  {
   "cell_type": "code",
   "execution_count": null,
   "id": "7dee8642-c65d-4c34-8cc9-9a773e03a906",
   "metadata": {},
   "outputs": [],
   "source": [
    "print(df.isnull().sum())"
   ]
  },
  {
   "cell_type": "code",
   "execution_count": null,
   "id": "bfb950fd-14d0-438d-95cf-7156c70b0461",
   "metadata": {},
   "outputs": [],
   "source": [
    "#Replace outliers for SkinThickness, Insulin, BloodPressue, and BMI with outlier cutoff value at IQR Upper Bound:\n",
    "def replace_outliers_with_iqr(df, col):\n",
    "    Q1 = df[col].quantile(0.25)\n",
    "    Q3 = df[col].quantile(0.75)\n",
    "    IQR = Q3 - Q1\n",
    "    upper_bound = Q3 + 1.5 * IQR\n",
    "    df[col] = np.where(df[col] > upper_bound, upper_bound, df[col])\n",
    "    return df"
   ]
  },
  {
   "cell_type": "code",
   "execution_count": null,
   "id": "a7dd95e7-c613-4ca3-adab-ca11aee96606",
   "metadata": {},
   "outputs": [],
   "source": [
    "outlier_columns = [\"SkinThickness\", \"Insulin\", \"BloodPressure\", \"BMI\"]"
   ]
  },
  {
   "cell_type": "code",
   "execution_count": null,
   "id": "892d7fab-e05a-45dd-81b1-b5c0f5375f6b",
   "metadata": {},
   "outputs": [],
   "source": [
    "for column in outlier_columns:\n",
    "    df = replace_outliers_with_iqr(df, column)"
   ]
  },
  {
   "cell_type": "code",
   "execution_count": null,
   "id": "fe8de9a3-d871-418f-988f-68046eaad2cb",
   "metadata": {},
   "outputs": [],
   "source": [
    "df.boxplot(figsize=(12,5), vert=False)"
   ]
  },
  {
   "cell_type": "code",
   "execution_count": null,
   "id": "48bbe61f-3d62-493b-90a4-7341f9b74834",
   "metadata": {},
   "outputs": [],
   "source": [
    "df.describe()"
   ]
  },
  {
   "cell_type": "code",
   "execution_count": null,
   "id": "f0fd27ae-ea51-49c5-9a75-33432e74d638",
   "metadata": {},
   "outputs": [],
   "source": [
    "#Save the cleaned dataset\n",
    "df.to_csv(\"cleaned_diabetes.csv\", index=False)"
   ]
  },
  {
   "cell_type": "code",
   "execution_count": null,
   "id": "e759bbf1-fe16-441c-8ca2-17b516dfaf16",
   "metadata": {},
   "outputs": [],
   "source": [
    "#Exploration: Finding out number of diabetic patients by obesity level\n",
    "#First, split bmi into categories\n",
    "def bmi_categories(bmi):\n",
    "    if bmi < 18.5:\n",
    "        return \"Underweight\"\n",
    "    elif 18.5 <= bmi < 25:\n",
    "        return \"Normal\"\n",
    "    elif 25 <= bmi < 30:\n",
    "        return \"Overweight\"\n",
    "    else:\n",
    "        return \"Obese\""
   ]
  },
  {
   "cell_type": "code",
   "execution_count": null,
   "id": "7e5e9589-ffb9-455b-82b7-f259878217a4",
   "metadata": {},
   "outputs": [],
   "source": [
    "df['Obesity_Level'] = df['BMI'].apply(bmi_categories)\n",
    "df"
   ]
  },
  {
   "cell_type": "code",
   "execution_count": null,
   "id": "eba95e15-a765-4ac7-90b1-8de311238606",
   "metadata": {},
   "outputs": [],
   "source": [
    "obesity_diabetes_count = df[df[\"Outcome\"] == 1][\"Obesity_Level\"].value_counts()\n",
    "obesity_diabetes_count"
   ]
  },
  {
   "cell_type": "code",
   "execution_count": null,
   "id": "d1c627fd-d604-4d5b-96e3-5deafef76b53",
   "metadata": {},
   "outputs": [],
   "source": [
    "plt.figure(figsize=(10,5))\n",
    "colors = [\"orange\", \"blue\", \"green\"]\n",
    "ax = sns.barplot(x=obesity_diabetes_count.index, y=obesity_diabetes_count.values, palette=colors)\n",
    "for container in ax.containers:\n",
    "    ax.bar_label(container)\n",
    "plt.xlabel(\"Obesity Level\")\n",
    "plt.ylabel(\"Number of Diabetic Patients\")\n",
    "plt.title(\"Number of Diabetic Patients by Obesity Level\",fontsize=12, fontweight=\"bold\")\n",
    "plt.show()"
   ]
  },
  {
   "cell_type": "code",
   "execution_count": null,
   "id": "2d0d5fc1-1e43-42a6-889b-8c5718236af9",
   "metadata": {},
   "outputs": [],
   "source": []
  }
 ],
 "metadata": {
  "kernelspec": {
   "display_name": "Python 3 (ipykernel)",
   "language": "python",
   "name": "python3"
  },
  "language_info": {
   "codemirror_mode": {
    "name": "ipython",
    "version": 3
   },
   "file_extension": ".py",
   "mimetype": "text/x-python",
   "name": "python",
   "nbconvert_exporter": "python",
   "pygments_lexer": "ipython3",
   "version": "3.12.4"
  }
 },
 "nbformat": 4,
 "nbformat_minor": 5
}
