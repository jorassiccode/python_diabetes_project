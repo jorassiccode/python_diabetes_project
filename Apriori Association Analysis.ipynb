{
 "cells": [
  {
   "cell_type": "code",
   "execution_count": null,
   "id": "f8beb5cb-fcc1-447f-9c63-2552e763918b",
   "metadata": {},
   "outputs": [],
   "source": [
    "#Association Goals: Identify common traits of diabetics"
   ]
  },
  {
   "cell_type": "code",
   "execution_count": null,
   "id": "22a6fc74-aa44-4ed8-a67d-0d9eea2658a5",
   "metadata": {},
   "outputs": [],
   "source": [
    "!pip install mlxtend"
   ]
  },
  {
   "cell_type": "code",
   "execution_count": null,
   "id": "34e1cc85-8ef4-428c-9d9a-c866e6c0f105",
   "metadata": {},
   "outputs": [],
   "source": [
    "import pandas as pd\n",
    "import mlxtend\n",
    "from mlxtend.frequent_patterns import apriori, association_rules"
   ]
  },
  {
   "cell_type": "code",
   "execution_count": null,
   "id": "2fa441ba-e532-4a89-b322-7b39082e0d12",
   "metadata": {},
   "outputs": [],
   "source": [
    "df = pd.read_csv(\"cleaned_diabetes.csv\") # this path is generalized, please input original local file path here\n",
    "df"
   ]
  },
  {
   "cell_type": "code",
   "execution_count": null,
   "id": "af1ad032-4e28-4f47-a78b-d8607f767dc7",
   "metadata": {},
   "outputs": [],
   "source": [
    "#Binning: Convert numerical variables into categorical bins as Apriori works with categorical data\n",
    "\n",
    "def pregnancies_categories(preg):\n",
    "    if preg == 0:\n",
    "        return 'No Pregnancy'\n",
    "    elif 1 <= preg <= 2:\n",
    "        return 'Low Pregnancies'\n",
    "    elif 3 <= preg <= 5:\n",
    "        return 'Moderate Pregnancies'\n",
    "    else:\n",
    "        return 'High Pregnancies'\n",
    "\n",
    "def glucose_categories(glucose):\n",
    "    if glucose < 140:\n",
    "        return 'Normal Glucose' \n",
    "    elif 140 <= glucose < 200: \n",
    "        return 'High Glucose'\n",
    "    else: \n",
    "        return 'Very High Glucose'\n",
    "\n",
    "def bp_categories(bp):\n",
    "    if bp < 80: \n",
    "        return 'Normal BP' \n",
    "    elif 80 <= bp < 90: \n",
    "        return 'High-Normal BP' \n",
    "    else: \n",
    "        return 'High BP'\n",
    "\n",
    "def skinthickness_categories(skin): \n",
    "    if skin <= 10: \n",
    "        return 'Very Low' \n",
    "    elif 11 <= skin <= 20: \n",
    "        return 'Low' \n",
    "    elif 21 <= skin <= 30: \n",
    "        return 'Medium' \n",
    "    elif 31 <= skin <= 40: \n",
    "        return 'High' \n",
    "    else: \n",
    "        return 'Very High'\n",
    "\n",
    "def insulin_categories(insulin): \n",
    "    if insulin <= 30: \n",
    "        return 'Low'\n",
    "    elif 31 <= insulin <= 60: \n",
    "        return 'Normal' \n",
    "    elif 61 <= insulin <= 100: \n",
    "        return 'Elevated' \n",
    "    else: \n",
    "        return 'High'\n",
    "\n",
    "def bmi_categories(bmi):\n",
    "    if bmi < 18.5:\n",
    "        return 'Underweight'\n",
    "    elif 18.5 <= bmi < 25:\n",
    "        return 'Normal'\n",
    "    elif 25 <= bmi < 30:\n",
    "        return 'Overweight'\n",
    "    else:\n",
    "        return 'Obese'\n",
    "\n",
    "def dpf_categories(dpf):\n",
    "    if dpf <= 0.24: \n",
    "        return 'Low Genetic Risk' \n",
    "    elif 0.25 <= dpf <= 0.49: \n",
    "        return 'Moderate Genetic Risk' \n",
    "    elif 0.50 <= dpf <= 0.99: \n",
    "        return 'High Genetic Risk' \n",
    "    else: \n",
    "        return 'Very High Genetic Risk'\n",
    "\n",
    "def age_categories(age):\n",
    "    if 18 <= age <= 34:\n",
    "        return 'Young Adult'  \n",
    "    elif 35 <= age <= 49:\n",
    "        return 'Middle-aged'  \n",
    "    elif 50 <= age <= 64:\n",
    "        return 'Senior'  \n",
    "    else:\n",
    "        return 'Elderly' \n",
    "\n",
    "df['Pregnancies_Level'] = df['Pregnancies'].apply(pregnancies_categories)\n",
    "df['Glucose_level'] = df['Glucose'].apply(glucose_categories)\n",
    "df['BP_Level'] = df['BloodPressure'].apply(bp_categories)\n",
    "df['ST_Level'] = df['SkinThickness'].apply(skinthickness_categories)\n",
    "df['Insulin_Level'] = df['Insulin'].apply(insulin_categories)\n",
    "df['Obesity_Level'] = df['BMI'].apply(bmi_categories)\n",
    "df['DPF_Level'] = df['DiabetesPedigreeFunction'].apply(dpf_categories)\n",
    "df['Age_Level'] = df['Age'].apply(age_categories)\n",
    "df"
   ]
  },
  {
   "cell_type": "code",
   "execution_count": null,
   "id": "b412503f-21b3-49e1-bb39-a1a13fdc3e1b",
   "metadata": {
    "scrolled": true
   },
   "outputs": [],
   "source": [
    "df.dtypes"
   ]
  },
  {
   "cell_type": "code",
   "execution_count": null,
   "id": "7d872be6-3d22-42c5-b937-910c75fd7be2",
   "metadata": {},
   "outputs": [],
   "source": [
    "df['Outcome'] = df['Outcome'].map({0: False, 1: True})\n",
    "df[['Outcome']].head()"
   ]
  },
  {
   "cell_type": "code",
   "execution_count": null,
   "id": "36055754-1510-4132-b143-81c53293891a",
   "metadata": {},
   "outputs": [],
   "source": [
    "df.dtypes"
   ]
  },
  {
   "cell_type": "code",
   "execution_count": null,
   "id": "5e0d8301-d8ec-4a0a-87bf-910f5bdc38c2",
   "metadata": {},
   "outputs": [],
   "source": [
    "df_diabetic = df[df['Outcome'] == True]\n",
    "df_diabetic"
   ]
  },
  {
   "cell_type": "code",
   "execution_count": null,
   "id": "17c57061-7283-43e7-8268-655a38610e15",
   "metadata": {},
   "outputs": [],
   "source": [
    "mean_outcome = df['Outcome'].mean()\n",
    "mean_outcome"
   ]
  },
  {
   "cell_type": "code",
   "execution_count": null,
   "id": "b7178dba-0e15-49ae-bed2-22e08baa962d",
   "metadata": {},
   "outputs": [],
   "source": [
    "association_inputs = df[['BP_Level','Obesity_Level','DPF_Level','Age_Level','Outcome']]\n",
    "association_inputs"
   ]
  },
  {
   "cell_type": "code",
   "execution_count": null,
   "id": "31a16ddf-4c35-4139-bf84-f08e9afdf581",
   "metadata": {},
   "outputs": [],
   "source": [
    "association_inputs = df[['BP_Level','Obesity_Level','DPF_Level','Age_Level','Outcome']]\n",
    "association_inputs"
   ]
  },
  {
   "cell_type": "code",
   "execution_count": null,
   "id": "6f8c099f-0a17-4080-8a7d-d6f12290b8db",
   "metadata": {},
   "outputs": [],
   "source": [
    "# Convert categorical features into one-hot encoding\n",
    "df_encoded = pd.get_dummies(association_inputs)\n",
    "\n",
    "# Ensure all values are boolean (1 for presence, 0 for absence)\n",
    "df_encoded = df_encoded.astype(bool)\n",
    "\n",
    "# Run the Apriori algorithm\n",
    "frequent_itemsets = apriori(df_encoded, min_support=0.01, use_colnames=True)\n",
    "frequent_itemsets.head(10)"
   ]
  },
  {
   "cell_type": "code",
   "execution_count": null,
   "id": "0d40fb51-fc75-4104-9410-797dc34661bd",
   "metadata": {},
   "outputs": [],
   "source": [
    "# Generate association rules from the frequent itemsets\n",
    "rules = association_rules(df=frequent_itemsets, metric='confidence', min_threshold=0.70)\n",
    "\n",
    "#Display the rules\n",
    "rules"
   ]
  },
  {
   "cell_type": "code",
   "execution_count": null,
   "id": "c4a48090-43ba-4f08-8ad1-6777b7c46b71",
   "metadata": {},
   "outputs": [],
   "source": [
    "rules_filtered = rules[rules['consequents'].apply(lambda x: 'Outcome' in x)]\n",
    "\n",
    "rules_filtered"
   ]
  },
  {
   "cell_type": "code",
   "execution_count": null,
   "id": "4d2f5c9d-45dc-4f5f-bde4-853909750588",
   "metadata": {},
   "outputs": [],
   "source": [
    "print(f\"Total number of filtered rules: {rules_filtered.shape[0]}\")\n",
    "pd.set_option('display.max_colwidth', None)\n",
    "rules_filtered = rules_filtered.sort_values(by=['confidence'], ascending=[False])\n",
    "rules_filtered"
   ]
  },
  {
   "cell_type": "code",
   "execution_count": null,
   "id": "c6732288-3e83-4227-82aa-4a4746c2fe54",
   "metadata": {},
   "outputs": [],
   "source": [
    "import pandas as pd\n",
    "import matplotlib.pyplot as plt\n",
    "import numpy as np\n",
    "\n",
    "# Simulating the filtered rules dataset based on previous observations\n",
    "data = {\n",
    "    'Rule': ['Rule 76: Normal BP, Obese, Senior', \n",
    "             'Rule 88: Middle-aged, High Genetic Risk, Obese', \n",
    "             'Rule 91: High Genetic Risk, Obese, Senior'],\n",
    "    'Antecedent Support': [0.026042, 0.041667, 0.019531],\n",
    "    'Consequent Support': [0.348958, 0.348958, 0.348958],\n",
    "    'Support (Rule Support)': [0.018229, 0.031250, 0.016927],\n",
    "    'Confidence': [0.700000, 0.750000, 0.866667],\n",
    "    'Lift': [2.005970, 2.149254, 2.483582]\n",
    "}\n",
    "\n",
    "# Convert data to DataFrame and sort by confidence (as in your code)\n",
    "rules_filtered_df = pd.DataFrame(data)\n",
    "rules_filtered_df = rules_filtered_df.sort_values(by=['Confidence'], ascending=[False])\n",
    "\n",
    "# Extracting data for visualization\n",
    "metrics = ['Antecedent Support', 'Consequent Support', 'Support (Rule Support)', 'Confidence', 'Lift']\n",
    "rule_1_values = rules_filtered_df.iloc[0, 1:].values  # Highest confidence rule\n",
    "rule_2_values = rules_filtered_df.iloc[1, 1:].values  # Second highest confidence rule\n",
    "rule_3_values = rules_filtered_df.iloc[2, 1:].values  # Third highest confidence rule\n",
    "\n",
    "# Set positions for bars\n",
    "x = np.arange(len(metrics))\n",
    "width = 0.25\n",
    "\n",
    "# Create the bar chart\n",
    "fig, ax = plt.subplots(figsize=(12, 6))\n",
    "bars1 = ax.bar(x - width, rule_1_values, width, label=rules_filtered_df.iloc[0, 0], color='tomato')\n",
    "bars2 = ax.bar(x, rule_2_values, width, label=rules_filtered_df.iloc[1, 0], color='royalblue')\n",
    "bars3 = ax.bar(x + width, rule_3_values, width, label=rules_filtered_df.iloc[2, 0], color='seagreen')\n",
    "\n",
    "# Add labels and title\n",
    "ax.set_xlabel('Metrics')\n",
    "ax.set_ylabel('Values')\n",
    "ax.set_title('Comparison of Top 3 Rules in Apriori Analysis (Sorted by Confidence)')\n",
    "ax.set_xticks(x)\n",
    "ax.set_xticklabels(metrics, rotation=20)\n",
    "ax.legend()\n",
    "\n",
    "# Display values on bars\n",
    "for bars in [bars1, bars2, bars3]:\n",
    "    for bar in bars:\n",
    "        height = bar.get_height()\n",
    "        ax.annotate(f'{height:.2f}',\n",
    "                    xy=(bar.get_x() + bar.get_width() / 2, height),\n",
    "                    xytext=(0, 3),  # Offset above bar\n",
    "                    textcoords=\"offset points\",\n",
    "                    ha='center', va='bottom', fontsize=10, fontweight='bold')\n",
    "\n",
    "# Show the plot\n",
    "plt.show()\n"
   ]
  },
  {
   "cell_type": "code",
   "execution_count": null,
   "id": "cdf34014-c87d-47bf-b914-15061087b1a6",
   "metadata": {},
   "outputs": [],
   "source": [
    "# Association rules validation\n",
    "senior_obese_high_risk = df_diabetic[\n",
    "    (df_diabetic[\"Age_Level\"] == \"Senior\") & \n",
    "    (df_diabetic[\"Obesity_Level\"] == \"Obese\") & \n",
    "    (df_diabetic[\"DPF_Level\"] == \"High Genetic Risk\")\n",
    "]\n",
    "\n",
    "middle_obese_high_risk = df_diabetic[\n",
    "    (df_diabetic[\"Age_Level\"] == \"Middle-aged\") & \n",
    "    (df_diabetic[\"Obesity_Level\"] == \"Obese\") & \n",
    "    (df_diabetic[\"DPF_Level\"] == \"High Genetic Risk\")\n",
    "]\n",
    "\n",
    "senior_obese_normal_bp = df_diabetic[\n",
    "    (df_diabetic[\"Age_Level\"] == \"Senior\") & \n",
    "    (df_diabetic[\"Obesity_Level\"] == \"Obese\") & \n",
    "    (df_diabetic[\"BP_Level\"] == \"Normal BP\")\n",
    "]\n",
    "\n",
    "# Compute Glucose and Insulin category distributions for each group in df_diabetic\n",
    "validation_results_diabetic = pd.DataFrame({\n",
    "    \"Group\": [\"Senior, Obese, High Genetic Risk\", \"Middle-aged, Obese, High Genetic Risk\", \"Senior, Obese, Normal BP\"],\n",
    "    \"High Glucose (%)\": [\n",
    "        (senior_obese_high_risk[\"Glucose_level\"].isin([\"High Glucose\", \"Very High Glucose\"])).mean() * 100,\n",
    "        (middle_obese_high_risk[\"Glucose_level\"].isin([\"High Glucose\", \"Very High Glucose\"])).mean() * 100,\n",
    "        (senior_obese_normal_bp[\"Glucose_level\"].isin([\"High Glucose\", \"Very High Glucose\"])).mean() * 100,\n",
    "    ],\n",
    "    \"High Insulin (%)\": [\n",
    "        (senior_obese_high_risk[\"Insulin_Level\"].isin([\"Elevated\", \"High\"])).mean() * 100,\n",
    "        (middle_obese_high_risk[\"Insulin_Level\"].isin([\"Elevated\", \"High\"])).mean() * 100,\n",
    "        (senior_obese_normal_bp[\"Insulin_Level\"].isin([\"Elevated\", \"High\"])).mean() * 100,\n",
    "    ]\n",
    "})\n",
    "# Re-import ace_tools in case it was reset\n",
    "\n",
    "# Alternative: Display results without using ace_tools (tools)\n",
    "print(\"\\nDiabetic Association Rule Validation:\")\n",
    "print(validation_results_diabetic.to_string(index=False))"
   ]
  },
  {
   "cell_type": "code",
   "execution_count": null,
   "id": "b1b2154f-bade-470c-aa22-36bafde3eddc",
   "metadata": {},
   "outputs": [],
   "source": [
    "import networkx as nx\n",
    "import matplotlib.pyplot as plt\n",
    "\n",
    "# Create a directed graph\n",
    "G = nx.DiGraph()\n",
    "\n",
    "# Add nodes and edges from filtered rules\n",
    "for _, row in rules_filtered.iterrows():\n",
    "    antecedents = row['antecedents']\n",
    "    consequent = list(row['consequents'])[0]  # Assuming only 1 consequent (Outcome)\n",
    "    \n",
    "    for antecedent in antecedents:\n",
    "        G.add_edge(antecedent, consequent, weight=row['confidence'])  # Edge weight = confidence\n",
    "\n",
    "# Draw the graph\n",
    "plt.figure(figsize=(10, 6))\n",
    "pos = nx.spring_layout(G, seed=42)  # Layout for better spacing\n",
    "edges = G.edges(data=True)\n",
    "\n",
    "# Draw nodes\n",
    "nx.draw(G, pos, with_labels=True, node_color=\"lightblue\", edge_color=\"gray\", node_size=2000, font_size=10)\n",
    "\n",
    "# Draw edges with thickness proportional to confidence\n",
    "edge_widths = [d['weight'] * 5 for (u, v, d) in edges]  # Scale confidence for visualization\n",
    "nx.draw_networkx_edges(G, pos, edgelist=edges, width=edge_widths, edge_color=\"blue\")\n",
    "\n",
    "plt.title(\"Association Rules Network Graph\")\n",
    "plt.show()"
   ]
  },
  {
   "cell_type": "code",
   "execution_count": null,
   "id": "7a1284fe-47d5-462a-bece-7cf0e9018b91",
   "metadata": {},
   "outputs": [],
   "source": []
  }
 ],
 "metadata": {
  "kernelspec": {
   "display_name": "Python 3 (ipykernel)",
   "language": "python",
   "name": "python3"
  },
  "language_info": {
   "codemirror_mode": {
    "name": "ipython",
    "version": 3
   },
   "file_extension": ".py",
   "mimetype": "text/x-python",
   "name": "python",
   "nbconvert_exporter": "python",
   "pygments_lexer": "ipython3",
   "version": "3.12.4"
  }
 },
 "nbformat": 4,
 "nbformat_minor": 5
}
